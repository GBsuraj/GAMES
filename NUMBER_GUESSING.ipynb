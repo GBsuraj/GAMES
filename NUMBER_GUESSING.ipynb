{
 "cells": [
  {
   "cell_type": "code",
   "execution_count": 1,
   "id": "57da6a03",
   "metadata": {},
   "outputs": [
    {
     "name": "stdout",
     "output_type": "stream",
     "text": [
      "\n",
      "                  1-Start \n",
      "                  2-Exit\n",
      "                  1\n",
      "Enter your number: 3\n",
      "wrong guess,the actual number is 4\n",
      "\n",
      "                  1-Start \n",
      "                  2-Exit\n",
      "                  2\n"
     ]
    }
   ],
   "source": [
    "from abc import ABC\n",
    "import random\n",
    "while True:\n",
    "    num=int(input('''\n",
    "                  1-Start \n",
    "                  2-Exit\n",
    "                  '''))\n",
    "    if num==1:\n",
    "        abc=random.randrange(1,10)\n",
    "        num=int(input('Enter your number: '))\n",
    "        if num>abc:\n",
    "            print('wrong guess,the actual number is',abc)\n",
    "        elif num<abc:\n",
    "            print('wrong guess,the actual number is',abc)\n",
    "        elif num==abc:\n",
    "            print('Congratulations...right guess.')\n",
    "    else:\n",
    "        break\n"
   ]
  },
  {
   "cell_type": "code",
   "execution_count": null,
   "id": "7066411b",
   "metadata": {},
   "outputs": [],
   "source": []
  }
 ],
 "metadata": {
  "kernelspec": {
   "display_name": "Python 3 (ipykernel)",
   "language": "python",
   "name": "python3"
  },
  "language_info": {
   "codemirror_mode": {
    "name": "ipython",
    "version": 3
   },
   "file_extension": ".py",
   "mimetype": "text/x-python",
   "name": "python",
   "nbconvert_exporter": "python",
   "pygments_lexer": "ipython3",
   "version": "3.9.7"
  }
 },
 "nbformat": 4,
 "nbformat_minor": 5
}
